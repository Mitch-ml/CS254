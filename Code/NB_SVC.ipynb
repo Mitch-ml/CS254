{
 "cells": [
  {
   "cell_type": "code",
   "execution_count": 20,
   "id": "8adb64fd-5630-4322-9977-270ac4db4826",
   "metadata": {},
   "outputs": [],
   "source": [
    "import os\n",
    "import sqlite3\n",
    "import pandas as pd\n",
    "import numpy as np\n",
    "import matplotlib.pyplot as plt\n",
    "\n",
    "# processing\n",
    "# import re\n",
    "import nltk\n",
    "\n",
    "# Bag-of-Words\n",
    "from sklearn.model_selection import train_test_split\n",
    "from sklearn.feature_extraction.text import TfidfVectorizer\n",
    "from sklearn.naive_bayes import MultinomialNB\n",
    "# from sklearn.pipeline import Pipeline\n",
    "from sklearn.metrics import accuracy_score\n",
    "\n",
    "# Word embedding\n",
    "import gensim\n",
    "import gensim.downloader as gensim_api\n",
    "\n",
    "# from tensorflow.keras import models, layers\n",
    "\n",
    "# Supress error message from transformers\n",
    "os.environ['TF_CPP_MIN_LOG_LEVEL'] = '2'\n",
    "\n",
    "# Huggingface\n",
    "import transformers"
   ]
  },
  {
   "cell_type": "code",
   "execution_count": 2,
   "id": "54c39910-ad31-4a05-8e4e-cc3e81a24e66",
   "metadata": {},
   "outputs": [
    {
     "data": {
      "text/html": [
       "<div>\n",
       "<style scoped>\n",
       "    .dataframe tbody tr th:only-of-type {\n",
       "        vertical-align: middle;\n",
       "    }\n",
       "\n",
       "    .dataframe tbody tr th {\n",
       "        vertical-align: top;\n",
       "    }\n",
       "\n",
       "    .dataframe thead th {\n",
       "        text-align: right;\n",
       "    }\n",
       "</style>\n",
       "<table border=\"1\" class=\"dataframe\">\n",
       "  <thead>\n",
       "    <tr style=\"text-align: right;\">\n",
       "      <th></th>\n",
       "      <th>text</th>\n",
       "      <th>y</th>\n",
       "    </tr>\n",
       "  </thead>\n",
       "  <tbody>\n",
       "    <tr>\n",
       "      <th>0</th>\n",
       "      <td>This bill addresses voter access, election int...</td>\n",
       "      <td>D</td>\n",
       "    </tr>\n",
       "    <tr>\n",
       "      <th>1</th>\n",
       "      <td>This bill establishes several programs and req...</td>\n",
       "      <td>D</td>\n",
       "    </tr>\n",
       "    <tr>\n",
       "      <th>2</th>\n",
       "      <td>This bill establishes new criteria for determi...</td>\n",
       "      <td>D</td>\n",
       "    </tr>\n",
       "    <tr>\n",
       "      <th>3</th>\n",
       "      <td>This bill prohibits discrimination based on se...</td>\n",
       "      <td>D</td>\n",
       "    </tr>\n",
       "    <tr>\n",
       "      <th>4</th>\n",
       "      <td>American Dream and Promise Act of 2021 This bi...</td>\n",
       "      <td>D</td>\n",
       "    </tr>\n",
       "  </tbody>\n",
       "</table>\n",
       "</div>"
      ],
      "text/plain": [
       "                                                text  y\n",
       "0  This bill addresses voter access, election int...  D\n",
       "1  This bill establishes several programs and req...  D\n",
       "2  This bill establishes new criteria for determi...  D\n",
       "3  This bill prohibits discrimination based on se...  D\n",
       "4  American Dream and Promise Act of 2021 This bi...  D"
      ]
     },
     "execution_count": 2,
     "metadata": {},
     "output_type": "execute_result"
    }
   ],
   "source": [
    "# Change path to access data\n",
    "cwd = os.getcwd()\n",
    "os.chdir('CS254/data')\n",
    "\n",
    "# Load data\n",
    "conn = sqlite3.connect('congress.db')\n",
    "congress = pd.read_sql_query(\"SELECT * FROM congress\", conn)\n",
    "conn.close()\n",
    "\n",
    "# Create new DataFrame of just bill summary and party\n",
    "df = congress[['bill_summary', 'sponsor_party']].copy()\n",
    "df.columns = ['text', 'y']\n",
    "df.head()"
   ]
  },
  {
   "cell_type": "code",
   "execution_count": 114,
   "id": "a0e94dbd-5602-408b-b62a-af47a9e65e62",
   "metadata": {},
   "outputs": [
    {
     "data": {
      "image/png": "[encoded data removed]",
      "text/plain": [
       "<Figure size 432x288 with 1 Axes>"
      ]
     },
     "metadata": {
      "needs_background": "light"
     },
     "output_type": "display_data"
    }
   ],
   "source": [
    "df = df[df['y'] != 'L']\n",
    "df = df[df['y'] != 'I']\n",
    "\n",
    "df['y'].value_counts().plot(kind='bar')\n",
    "plt.show();"
   ]
  },
  {
   "cell_type": "code",
   "execution_count": 4,
   "id": "f6d14d69-548d-4eca-8cd0-a33434a4f26d",
   "metadata": {
    "jupyter": {
     "source_hidden": true
    },
    "tags": []
   },
   "outputs": [],
   "source": [
    "def preprocess_text(text, flg_stem=True, flg_lem=False, lst_stopwords=None):\n",
    "    # convert to lowercase and remove punctuations\n",
    "    text = re.sub(r'[^\\w\\s]', '', str(text).lower()).strip()\n",
    "    \n",
    "    # Tokenize sentence\n",
    "    lst_text = text.split()\n",
    "    \n",
    "    # Remove Stopwords\n",
    "    if lst_stopwords is not None:\n",
    "        lst_text = [word for word in lst_text if word not in lst_stopwords]\n",
    "        \n",
    "    # Stemming\n",
    "    if flg_stem == True:\n",
    "        ps = nltk.stem.porter.PorterStemmer()\n",
    "        lst_text = [ps.stem(word) for word in lst_text]\n",
    "    \n",
    "    # Lemmatization\n",
    "    if flg_lem == True:\n",
    "        lem = nltk.stem.wordnet.WordNetLemmatizer()\n",
    "        lst_text = [lem.lemmatize(word) for word in lst_text]\n",
    "    \n",
    "    # Join text\n",
    "    text = \" \".join(lst_text)\n",
    "    \n",
    "    return text"
   ]
  },
  {
   "cell_type": "code",
   "execution_count": 30,
   "id": "89a19706-24ea-4ce5-a0dd-d9f3ecfbd674",
   "metadata": {
    "jupyter": {
     "source_hidden": true
    },
    "tags": []
   },
   "outputs": [],
   "source": [
    "# Get list of stopwords\n",
    "# lst_stopwords = nltk.corpus.stopwords.words('english')\n",
    "\n",
    "# Create column of clean text\n",
    "df['text_clean'] = df.loc[:, 'text'].apply(lambda x: preprocess_text(x, lst_stopwords))"
   ]
  },
  {
   "cell_type": "code",
   "execution_count": 37,
   "id": "d6769ff7-9f5f-4cfb-b003-0c62f1dcf433",
   "metadata": {
    "collapsed": true,
    "jupyter": {
     "outputs_hidden": true,
     "source_hidden": true
    },
    "tags": []
   },
   "outputs": [
    {
     "name": "stdout",
     "output_type": "stream",
     "text": [
      "Original text\n",
      " This bill addresses voter access, election integrity and security, campaign finance, and ethics for the three branches of government. Specifically, the bill expands voter registration (e.g., automatic and same-day registration) and voting access (e.g., vote-by-mail and early voting). It also limits removing voters from voter rolls.The bill requires states to establish independent redistricting commissions to carry out congressional redistricting.Additionally, the bill sets forth provisions related to election security, including sharing intelligence information with state election officials, supporting states in securing their election systems, developing a national strategy to protect U.S. democratic institutions, establishing in the legislative branch the National Commission to Protect United States Democratic Institutions, and other provisions to improve the cybersecurity of election systems.Further, the bill addresses campaign finance, including by expanding the prohibition on campaign spending by foreign nationals, requiring additional disclosure of campaign-related fundraising and spending, requiring additional disclaimers regarding certain political advertising, and establishing an alternative campaign funding system for certain federal offices. The bill addresses ethics in all three branches of government, including by requiring a code of conduct for Supreme Court Justices, prohibiting Members of the House from serving on the board of a for-profit entity, and establishing additional conflict-of-interest and ethics provisions for federal employees and the White House.The bill requires the President, the Vice President, and certain candidates for those offices to disclose 10 years of tax returns.\n",
      "\n",
      "Processed text\n",
      " this bill addresses voter access election integrity and security campaign finance and ethics for the three branches of government specifically the bill expands voter registration eg automatic and sameday registration and voting access eg votebymail and early voting it also limits removing voters from voter rollsthe bill requires states to establish independent redistricting commissions to carry out congressional redistrictingadditionally the bill sets forth provisions related to election security including sharing intelligence information with state election officials supporting states in securing their election systems developing a national strategy to protect us democratic institutions establishing in the legislative branch the national commission to protect united states democratic institutions and other provisions to improve the cybersecurity of election systemsfurther the bill addresses campaign finance including by expanding the prohibition on campaign spending by foreign nationals requiring additional disclosure of campaignrelated fundraising and spending requiring additional disclaimers regarding certain political advertising and establishing an alternative campaign funding system for certain federal offices the bill addresses ethics in all three branches of government including by requiring a code of conduct for supreme court justices prohibiting members of the house from serving on the board of a forprofit entity and establishing additional conflictofinterest and ethics provisions for federal employees and the white housethe bill requires the president the vice president and certain candidates for those offices to disclose 10 years of tax returns\n"
     ]
    }
   ],
   "source": [
    "print(\"Original text\\n\", df.loc[0, 'text'])\n",
    "print(\"\\nProcessed text\\n\", df.loc[0, 'text_clean'])"
   ]
  },
  {
   "cell_type": "code",
   "execution_count": 122,
   "id": "853e1c19-e62c-4610-be96-8851ff260426",
   "metadata": {
    "tags": []
   },
   "outputs": [],
   "source": [
    "# Split dataa\n",
    "X_train, X_test, y_train, y_test = train_test_split(df['text'], df['y'], test_size=0.2, random_state=0)"
   ]
  },
  {
   "cell_type": "markdown",
   "id": "ba2305db-32a5-49fb-aaaf-193e1ddbcb1f",
   "metadata": {},
   "source": [
    "# Naive Bayes"
   ]
  },
  {
   "cell_type": "code",
   "execution_count": 123,
   "id": "4a1222e0-5735-4cee-8307-1849e8229865",
   "metadata": {},
   "outputs": [
    {
     "data": {
      "text/plain": [
       "0.7050277193653222"
      ]
     },
     "execution_count": 123,
     "metadata": {},
     "output_type": "execute_result"
    }
   ],
   "source": [
    "# os.chdir(cwd + '/CS254/Code')\n",
    "# import stopwords\n",
    "# stpwrds = stopwords.stopwords\n",
    "# stpwrds = \" \".join(stpwrds).lower().split()\n",
    "\n",
    "# Create a vectorizer\n",
    "vectorizer = TfidfVectorizer(strip_accents='unicode', \n",
    "                             lowercase=True, \n",
    "                             stop_words='english', \n",
    "                             max_features=10000, \n",
    "                             ngram_range=(1,2))\n",
    "\n",
    "# Fit and transform training data\n",
    "X_train_vec = vectorizer.fit_transform(X_train)\n",
    "X_test_vec = vectorizer.transform(X_test)\n",
    "\n",
    "# # Use naive bayes as our classifier\n",
    "nb_clf = MultinomialNB()\n",
    "\n",
    "# # Train classifier\n",
    "nb_clf.fit(X_train_vec, y_train)\n",
    "\n",
    "# # Predict on test data\n",
    "y_pred = nb_clf.predict(X_test_vec)\n",
    "\n",
    "# # Get accuracy score\n",
    "accuracy_score(y_test, y_pred)"
   ]
  },
  {
   "cell_type": "code",
   "execution_count": 117,
   "id": "da4fb88e-31ee-4645-9574-c9d0092561ae",
   "metadata": {},
   "outputs": [
    {
     "data": {
      "text/plain": [
       "array(['D', 'R'], dtype=object)"
      ]
     },
     "execution_count": 117,
     "metadata": {},
     "output_type": "execute_result"
    }
   ],
   "source": [
    "classes = np.unique(y_test)\n",
    "classes"
   ]
  },
  {
   "cell_type": "code",
   "execution_count": 81,
   "id": "9658cb7c-2e77-4caa-87d8-f9cd365ebee4",
   "metadata": {},
   "outputs": [],
   "source": [
    "from sklearn.metrics import roc_auc_score\n",
    "from sklearn.metrics import classification_report\n",
    "from sklearn.metrics import precision_recall_curve\n",
    "from sklearn.metrics import plot_confusion_matrix\n",
    "from sklearn.metrics import auc\n",
    "from sklearn.metrics import roc_curve"
   ]
  },
  {
   "cell_type": "code",
   "execution_count": 127,
   "id": "15bb15a2-6a6d-44cf-9497-4bba44ec23b6",
   "metadata": {},
   "outputs": [
    {
     "name": "stdout",
     "output_type": "stream",
     "text": [
      "              precision    recall  f1-score   support\n",
      "\n",
      "           D       0.73      0.76      0.74      2933\n",
      "           R       0.68      0.63      0.65      2298\n",
      "\n",
      "    accuracy                           0.71      5231\n",
      "   macro avg       0.70      0.70      0.70      5231\n",
      "weighted avg       0.70      0.71      0.70      5231\n",
      "\n"
     ]
    },
    {
     "data": {
      "image/png": "[encoded data removed]",
      "text/plain": [
       "<Figure size 432x288 with 2 Axes>"
      ]
     },
     "metadata": {
      "needs_background": "light"
     },
     "output_type": "display_data"
    },
    {
     "data": {
      "image/png": "[encoded data removed]",
      "text/plain": [
       "<Figure size 864x360 with 2 Axes>"
      ]
     },
     "metadata": {
      "needs_background": "light"
     },
     "output_type": "display_data"
    }
   ],
   "source": [
    "# Get precision/recall/f1 scores\n",
    "print(classification_report(y_test, y_pred))\n",
    "\n",
    "# Visualize confusion matrix\n",
    "plot_confusion_matrix(nb_clf, X_test_vec,  y_test, cmap='Blues')\n",
    "\n",
    "# Visualize precision recall curve\n",
    "classes = np.unique(y_test.values)\n",
    "y_test_array = pd.get_dummies(y_test, drop_first=False).values\n",
    "predicted_prob = nb_clf.predict_proba(X_test_vec)\n",
    "\n",
    "# Plot ROC\n",
    "fig, ax = plt.subplots(1,2, figsize=(12,5))\n",
    "for i in range(2):\n",
    "    fpr, tpr, thresholds = roc_curve(y_test_array[:,i], predicted_prob[:, i])\n",
    "    ax[0].plot(fpr, tpr, lw=3, \n",
    "              label='{0} (area={1:0.2f})'.format(classes[i],auc(fpr, tpr)))\n",
    "    \n",
    "ax[0].plot([0,1], [0,1], color='navy', lw=3, linestyle='--')\n",
    "ax[0].set(xlim=[-0.05,1.0], ylim=[0.0,1.05], \n",
    "          xlabel='False Positive Rate', \n",
    "          ylabel=\"True Positive Rate (Recall)\", \n",
    "          title=\"Receiver operating characteristic\")\n",
    "ax[0].legend(loc=\"lower right\")\n",
    "ax[0].grid(True)\n",
    "    \n",
    "for i in range(len(classes)):\n",
    "    precision, recall, thresholds = precision_recall_curve(\n",
    "                 y_test_array[:,i], predicted_prob[:,i])\n",
    "    ax[1].plot(recall, precision, lw=3, \n",
    "               label='{0} (area={1:0.2f})'.format(classes[i], auc(recall, precision)))\n",
    "ax[1].set(xlim=[0.0,1.05], ylim=[0.0,1.05], xlabel='Recall', \n",
    "          ylabel=\"Precision\", title=\"Precision-Recall curve\")\n",
    "ax[1].legend(loc=\"best\")\n",
    "ax[1].grid(True)\n",
    "\n",
    "plt.show();"
   ]
  },
  {
   "cell_type": "markdown",
   "id": "3b32ceb0-f7a6-400f-9de3-cb758430b505",
   "metadata": {},
   "source": [
    "# SVC"
   ]
  },
  {
   "cell_type": "code",
   "execution_count": 92,
   "id": "d77cf49f-b35e-403d-be2d-c6aced56d1f5",
   "metadata": {},
   "outputs": [],
   "source": [
    "from sklearn.metrics import plot_roc_curve\n",
    "from sklearn.svm import SVC"
   ]
  },
  {
   "cell_type": "code",
   "execution_count": 141,
   "id": "a0cf8e52-0762-4347-9f3b-e6e6aed382d4",
   "metadata": {},
   "outputs": [
    {
     "data": {
      "text/plain": [
       "SVC(probability=True, random_state=0)"
      ]
     },
     "execution_count": 141,
     "metadata": {},
     "output_type": "execute_result"
    }
   ],
   "source": [
    "svc_clf = SVC(random_state=0, probability=True)\n",
    "svc_clf.fit(X_train_vec, y_train)"
   ]
  },
  {
   "cell_type": "code",
   "execution_count": 142,
   "id": "9409db4c-e22a-460d-9907-de7afbf7138d",
   "metadata": {},
   "outputs": [],
   "source": [
    "r_probs = np.zeros(len(y_test))\n",
    "nb_probs = nb_clf.predict_proba(X_test_vec)\n",
    "svc_probs = svc_clf.predict_proba(X_test_vec)"
   ]
  },
  {
   "cell_type": "code",
   "execution_count": 147,
   "id": "2d0f7277-b447-4436-af08-08ad5a5377c4",
   "metadata": {},
   "outputs": [
    {
     "name": "stdout",
     "output_type": "stream",
     "text": [
      "Random (chance) Prediction: AUROC = 0.500\n",
      "Naive Bayes: AUROC = 0.759\n",
      "SVC: AUROC = 0.862\n"
     ]
    }
   ],
   "source": [
    "# Print AUROC scores\n",
    "r_auc = roc_auc_score(y_test, r_probs)\n",
    "nb_auc = roc_auc_score(y_test, nb_probs[:,1])\n",
    "svc_auc = roc_auc_score(y_test, svc_probs[:,1])\n",
    "\n",
    "print('Random (chance) Prediction: AUROC = %.3f' % (r_auc))\n",
    "print('Naive Bayes: AUROC = %.3f' % (nb_auc))\n",
    "print('SVC: AUROC = %.3f' % (svc_auc))"
   ]
  },
  {
   "cell_type": "code",
   "execution_count": 156,
   "id": "e62e14fe-e920-445f-9d14-754aea2a1aa0",
   "metadata": {},
   "outputs": [
    {
     "data": {
      "image/png": "[encoded data removed]",
      "text/plain": [
       "<Figure size 432x288 with 1 Axes>"
      ]
     },
     "metadata": {
      "needs_background": "light"
     },
     "output_type": "display_data"
    }
   ],
   "source": [
    "# Remap y values to numeric\n",
    "y_test_num = y_test.replace({'D':0, 'R':1})\n",
    "\n",
    "# Calculate ROC curve\n",
    "r_fpr, r_tpr, _ = roc_curve(y_test_num, r_probs)\n",
    "nb_fpr, nb_tpr, _ = roc_curve(y_test_num, nb_probs[:,1])\n",
    "svc_fpr, svc_tpr, _ = roc_curve(y_test_num, svc_probs[:,1])\n",
    "\n",
    "# Plot\n",
    "plt.plot(r_fpr, r_tpr, linestyle='--', label='Random prediction (AUROC = %0.3f)' % r_auc)\n",
    "plt.plot(nb_fpr, nb_tpr, marker='.', label='Naive Bayes (AUROC = %0.3f)' % nb_auc)\n",
    "plt.plot(svc_fpr, svc_tpr, marker='.', label='SVC (AUROC = %0.3f)' % svc_auc)\n",
    "\n",
    "plt.title('ROC Plot')\n",
    "plt.xlabel('False Positive Rate')\n",
    "plt.ylabel('True Positive Rate')\n",
    "plt.legend()\n",
    "plt.show()"
   ]
  },
  {
   "cell_type": "markdown",
   "id": "4328708f-0efb-4a30-b1fa-aaa0ae14de0b",
   "metadata": {},
   "source": [
    "### References\n",
    "\n",
    "1. https://towardsdatascience.com/text-classification-with-nlp-tf-idf-vs-word2vec-vs-bert-41ff868d1794\n",
    "2. https://github.com/dataprofessor/code/blob/master/python/ROC_curve.ipynb"
   ]
  },
  {
   "cell_type": "code",
   "execution_count": null,
   "id": "c236bece-d002-44e4-a072-1331585050d8",
   "metadata": {},
   "outputs": [],
   "source": []
  }
 ],
 "metadata": {
  "kernelspec": {
   "display_name": "ml",
   "language": "python",
   "name": "ml"
  },
  "language_info": {
   "codemirror_mode": {
    "name": "ipython",
    "version": 3
   },
   "file_extension": ".py",
   "mimetype": "text/x-python",
   "name": "python",
   "nbconvert_exporter": "python",
   "pygments_lexer": "ipython3",
   "version": "3.9.5"
  }
 },
 "nbformat": 4,
 "nbformat_minor": 5
}
