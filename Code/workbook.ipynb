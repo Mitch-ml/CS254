{
 "cells": [
  {
   "cell_type": "code",
   "execution_count": 1,
   "id": "dc166f78",
   "metadata": {},
   "outputs": [],
   "source": [
    "import os\n",
    "import sqlite3\n",
    "import pandas as pd\n",
    "import numpy as np\n",
    "import matplotlib.pyplot as plt\n",
    "from io import StringIO\n",
    "from sklearn.feature_extraction.text import TfidfVectorizer\n"
   ]
  },
  {
   "cell_type": "code",
   "execution_count": 2,
   "id": "0fbbe5e9",
   "metadata": {},
   "outputs": [],
   "source": [
    "os.chdir(\"../data\")\n",
    "conn = sqlite3.connect('congress.db')\n",
    "# congress = pd.read_sql_query(\"SELECT * FROM congress WHERE congress=115\", conn)\n",
    "congress = pd.read_sql_query(\"SELECT * FROM congress\", conn)\n",
    "conn.close()"
   ]
  },
  {
   "cell_type": "code",
   "execution_count": 3,
   "id": "914c2242",
   "metadata": {},
   "outputs": [],
   "source": [
    "df = congress.copy()"
   ]
  },
  {
   "cell_type": "code",
   "execution_count": 4,
   "id": "ccefe8b8",
   "metadata": {},
   "outputs": [
    {
     "data": {
      "text/html": [
       "<div>\n",
       "<style scoped>\n",
       "    .dataframe tbody tr th:only-of-type {\n",
       "        vertical-align: middle;\n",
       "    }\n",
       "\n",
       "    .dataframe tbody tr th {\n",
       "        vertical-align: top;\n",
       "    }\n",
       "\n",
       "    .dataframe thead th {\n",
       "        text-align: right;\n",
       "    }\n",
       "</style>\n",
       "<table border=\"1\" class=\"dataframe\">\n",
       "  <thead>\n",
       "    <tr style=\"text-align: right;\">\n",
       "      <th></th>\n",
       "      <th>congress</th>\n",
       "      <th>hr_measure</th>\n",
       "      <th>sponsor_name</th>\n",
       "      <th>sponsor_party</th>\n",
       "      <th>bill_name</th>\n",
       "      <th>bill_summary</th>\n",
       "    </tr>\n",
       "  </thead>\n",
       "  <tbody>\n",
       "    <tr>\n",
       "      <th>0</th>\n",
       "      <td>117</td>\n",
       "      <td>1</td>\n",
       "      <td>Sarbanes John P</td>\n",
       "      <td>D</td>\n",
       "      <td>For the People Act of 2021</td>\n",
       "      <td>This bill addresses voter access, election int...</td>\n",
       "    </tr>\n",
       "    <tr>\n",
       "      <th>1</th>\n",
       "      <td>117</td>\n",
       "      <td>3</td>\n",
       "      <td>Pallone Frank Jr</td>\n",
       "      <td>D</td>\n",
       "      <td>Elijah E. Cummings Lower Drug Costs Now Act</td>\n",
       "      <td>This bill establishes several programs and req...</td>\n",
       "    </tr>\n",
       "    <tr>\n",
       "      <th>2</th>\n",
       "      <td>117</td>\n",
       "      <td>4</td>\n",
       "      <td>Sewell Terri A</td>\n",
       "      <td>D</td>\n",
       "      <td>John R. Lewis Voting Rights Advancement Act of...</td>\n",
       "      <td>This bill establishes new criteria for determi...</td>\n",
       "    </tr>\n",
       "    <tr>\n",
       "      <th>3</th>\n",
       "      <td>117</td>\n",
       "      <td>5</td>\n",
       "      <td>Cicilline David N</td>\n",
       "      <td>D</td>\n",
       "      <td>Equality Act</td>\n",
       "      <td>This bill prohibits discrimination based on se...</td>\n",
       "    </tr>\n",
       "    <tr>\n",
       "      <th>4</th>\n",
       "      <td>117</td>\n",
       "      <td>6</td>\n",
       "      <td>Roybal-Allard Lucille</td>\n",
       "      <td>D</td>\n",
       "      <td>None</td>\n",
       "      <td>American Dream and Promise Act of 2021 This bi...</td>\n",
       "    </tr>\n",
       "    <tr>\n",
       "      <th>...</th>\n",
       "      <td>...</td>\n",
       "      <td>...</td>\n",
       "      <td>...</td>\n",
       "      <td>...</td>\n",
       "      <td>...</td>\n",
       "      <td>...</td>\n",
       "    </tr>\n",
       "    <tr>\n",
       "      <th>19641</th>\n",
       "      <td>115</td>\n",
       "      <td>7397</td>\n",
       "      <td>Hoyer Steny H</td>\n",
       "      <td>D</td>\n",
       "      <td>None</td>\n",
       "      <td>DIVISION A--FURTHER ADDITIONAL CONTINUING APPR...</td>\n",
       "    </tr>\n",
       "    <tr>\n",
       "      <th>19642</th>\n",
       "      <td>115</td>\n",
       "      <td>7398</td>\n",
       "      <td>Foster Bill</td>\n",
       "      <td>D</td>\n",
       "      <td>Shutdown Prioritization Act or the SPA Act</td>\n",
       "      <td>This bill prohibits operation of an exercise f...</td>\n",
       "    </tr>\n",
       "    <tr>\n",
       "      <th>19643</th>\n",
       "      <td>115</td>\n",
       "      <td>7399</td>\n",
       "      <td>Scanlon Mary Gay</td>\n",
       "      <td>D</td>\n",
       "      <td>Inaugural Fund Integrity Act</td>\n",
       "      <td>This bill imposes various restrictions on pres...</td>\n",
       "    </tr>\n",
       "    <tr>\n",
       "      <th>19644</th>\n",
       "      <td>115</td>\n",
       "      <td>7400</td>\n",
       "      <td>Wild Susan</td>\n",
       "      <td>D</td>\n",
       "      <td>None</td>\n",
       "      <td>This bill provides FY2019 continuing appropria...</td>\n",
       "    </tr>\n",
       "    <tr>\n",
       "      <th>19645</th>\n",
       "      <td>115</td>\n",
       "      <td>7401</td>\n",
       "      <td>Ellison Keith</td>\n",
       "      <td>D</td>\n",
       "      <td>Strengthening Refugee Resettlement Act</td>\n",
       "      <td>This bill modifies provisions related to the t...</td>\n",
       "    </tr>\n",
       "  </tbody>\n",
       "</table>\n",
       "<p>19646 rows × 6 columns</p>\n",
       "</div>"
      ],
      "text/plain": [
       "      congress hr_measure           sponsor_name sponsor_party  \\\n",
       "0          117          1        Sarbanes John P             D   \n",
       "1          117          3       Pallone Frank Jr             D   \n",
       "2          117          4         Sewell Terri A             D   \n",
       "3          117          5      Cicilline David N             D   \n",
       "4          117          6  Roybal-Allard Lucille             D   \n",
       "...        ...        ...                    ...           ...   \n",
       "19641      115       7397          Hoyer Steny H             D   \n",
       "19642      115       7398            Foster Bill             D   \n",
       "19643      115       7399       Scanlon Mary Gay             D   \n",
       "19644      115       7400             Wild Susan             D   \n",
       "19645      115       7401          Ellison Keith             D   \n",
       "\n",
       "                                               bill_name  \\\n",
       "0                             For the People Act of 2021   \n",
       "1            Elijah E. Cummings Lower Drug Costs Now Act   \n",
       "2      John R. Lewis Voting Rights Advancement Act of...   \n",
       "3                                           Equality Act   \n",
       "4                                                   None   \n",
       "...                                                  ...   \n",
       "19641                                               None   \n",
       "19642         Shutdown Prioritization Act or the SPA Act   \n",
       "19643                       Inaugural Fund Integrity Act   \n",
       "19644                                               None   \n",
       "19645             Strengthening Refugee Resettlement Act   \n",
       "\n",
       "                                            bill_summary  \n",
       "0      This bill addresses voter access, election int...  \n",
       "1      This bill establishes several programs and req...  \n",
       "2      This bill establishes new criteria for determi...  \n",
       "3      This bill prohibits discrimination based on se...  \n",
       "4      American Dream and Promise Act of 2021 This bi...  \n",
       "...                                                  ...  \n",
       "19641  DIVISION A--FURTHER ADDITIONAL CONTINUING APPR...  \n",
       "19642  This bill prohibits operation of an exercise f...  \n",
       "19643  This bill imposes various restrictions on pres...  \n",
       "19644  This bill provides FY2019 continuing appropria...  \n",
       "19645  This bill modifies provisions related to the t...  \n",
       "\n",
       "[19646 rows x 6 columns]"
      ]
     },
     "execution_count": 4,
     "metadata": {},
     "output_type": "execute_result"
    }
   ],
   "source": [
    "df"
   ]
  },
  {
   "cell_type": "code",
   "execution_count": 5,
   "id": "ddd5394d",
   "metadata": {},
   "outputs": [
    {
     "data": {
      "image/png": "[encoded data removed]",
      "text/plain": [
       "<Figure size 432x288 with 1 Axes>"
      ]
     },
     "metadata": {
      "needs_background": "light"
     },
     "output_type": "display_data"
    }
   ],
   "source": [
    "# Visualize proportion of bills by party\n",
    "plt.title('Number of bills proposed by party')\n",
    "plt.xlabel('Sponsor party affiliation')\n",
    "plt.ylabel('Number of bills proposed')\n",
    "plt.bar(df['sponsor_party'].value_counts().index.values,\n",
    "        df['sponsor_party'].value_counts().values)\n",
    "plt.show();"
   ]
  },
  {
   "cell_type": "code",
   "execution_count": 6,
   "id": "6c4c2391",
   "metadata": {},
   "outputs": [],
   "source": [
    "# Get bill count data\n",
    "bill_count = df[['sponsor_name', 'congress']].groupby(['sponsor_name']).count()\n",
    "bill_count.columns = ['num_bills']\n",
    "bill_count = bill_count.reset_index()\n",
    "bill_count = bill_count.merge(df[['sponsor_name', 'sponsor_party']], on='sponsor_name').drop_duplicates()\n",
    "bill_count = bill_count.sort_values(by=['num_bills'], ascending=False)"
   ]
  },
  {
   "cell_type": "code",
   "execution_count": 7,
   "id": "b6470dd9",
   "metadata": {
    "scrolled": true
   },
   "outputs": [
    {
     "data": {
      "image/png": "[encoded data removed]",
      "text/plain": [
       "<Figure size 432x288 with 1 Axes>"
      ]
     },
     "metadata": {
      "needs_background": "light"
     },
     "output_type": "display_data"
    }
   ],
   "source": [
    "# Plot the number of bills passed by member, colored by party affiliation\n",
    "plt.title('Number of bills passed by individual members of house'.title())\n",
    "plt.xlabel('House Member')\n",
    "plt.ylabel('Number of bills passed')\n",
    "plt.scatter(np.arange(bill_count.shape[0]), bill_count['num_bills'],\n",
    "        color=bill_count['sponsor_party'].map({'R': 'r', 'D': 'b', 'L': 'orange', 'I': 'g'}),\n",
    "        alpha=0.4)\n",
    "plt.show();"
   ]
  },
  {
   "cell_type": "code",
   "execution_count": 8,
   "id": "ff85856a",
   "metadata": {},
   "outputs": [
    {
     "data": {
      "text/html": [
       "<div>\n",
       "<style scoped>\n",
       "    .dataframe tbody tr th:only-of-type {\n",
       "        vertical-align: middle;\n",
       "    }\n",
       "\n",
       "    .dataframe tbody tr th {\n",
       "        vertical-align: top;\n",
       "    }\n",
       "\n",
       "    .dataframe thead th {\n",
       "        text-align: right;\n",
       "    }\n",
       "</style>\n",
       "<table border=\"1\" class=\"dataframe\">\n",
       "  <thead>\n",
       "    <tr style=\"text-align: right;\">\n",
       "      <th></th>\n",
       "      <th>sponsor_party</th>\n",
       "      <th>bill_summary</th>\n",
       "    </tr>\n",
       "  </thead>\n",
       "  <tbody>\n",
       "    <tr>\n",
       "      <th>0</th>\n",
       "      <td>D</td>\n",
       "      <td>This bill addresses voter access, election int...</td>\n",
       "    </tr>\n",
       "    <tr>\n",
       "      <th>1</th>\n",
       "      <td>D</td>\n",
       "      <td>This bill establishes several programs and req...</td>\n",
       "    </tr>\n",
       "    <tr>\n",
       "      <th>2</th>\n",
       "      <td>D</td>\n",
       "      <td>This bill establishes new criteria for determi...</td>\n",
       "    </tr>\n",
       "    <tr>\n",
       "      <th>3</th>\n",
       "      <td>D</td>\n",
       "      <td>This bill prohibits discrimination based on se...</td>\n",
       "    </tr>\n",
       "    <tr>\n",
       "      <th>4</th>\n",
       "      <td>D</td>\n",
       "      <td>American Dream and Promise Act of 2021 This bi...</td>\n",
       "    </tr>\n",
       "  </tbody>\n",
       "</table>\n",
       "</div>"
      ],
      "text/plain": [
       "  sponsor_party                                       bill_summary\n",
       "0             D  This bill addresses voter access, election int...\n",
       "1             D  This bill establishes several programs and req...\n",
       "2             D  This bill establishes new criteria for determi...\n",
       "3             D  This bill prohibits discrimination based on se...\n",
       "4             D  American Dream and Promise Act of 2021 This bi..."
      ]
     },
     "execution_count": 8,
     "metadata": {},
     "output_type": "execute_result"
    }
   ],
   "source": [
    "#reduce dataframe to just sponsor party and bill_summary\n",
    "#Removing Ind and Lib bills\n",
    "\n",
    "#input = \"bill_summary\"\n",
    "#output = \"sponsor_party\"\n",
    "\n",
    "col = ['sponsor_party', 'bill_summary']\n",
    "df = df[col]\n",
    "df = df[pd.notnull(df['bill_summary'])]\n",
    "df = df[df.sponsor_party != 'I']\n",
    "df = df[df.sponsor_party != 'L']\n",
    "df.head()"
   ]
  },
  {
   "cell_type": "code",
   "execution_count": 9,
   "id": "54ecf431",
   "metadata": {
    "scrolled": true
   },
   "outputs": [
    {
     "data": {
      "text/html": [
       "<div>\n",
       "<style scoped>\n",
       "    .dataframe tbody tr th:only-of-type {\n",
       "        vertical-align: middle;\n",
       "    }\n",
       "\n",
       "    .dataframe tbody tr th {\n",
       "        vertical-align: top;\n",
       "    }\n",
       "\n",
       "    .dataframe thead th {\n",
       "        text-align: right;\n",
       "    }\n",
       "</style>\n",
       "<table border=\"1\" class=\"dataframe\">\n",
       "  <thead>\n",
       "    <tr style=\"text-align: right;\">\n",
       "      <th></th>\n",
       "      <th>sponsor_party</th>\n",
       "      <th>bill_summary</th>\n",
       "      <th>category_id</th>\n",
       "    </tr>\n",
       "  </thead>\n",
       "  <tbody>\n",
       "    <tr>\n",
       "      <th>0</th>\n",
       "      <td>D</td>\n",
       "      <td>This bill addresses voter access, election int...</td>\n",
       "      <td>0</td>\n",
       "    </tr>\n",
       "    <tr>\n",
       "      <th>1</th>\n",
       "      <td>D</td>\n",
       "      <td>This bill establishes several programs and req...</td>\n",
       "      <td>0</td>\n",
       "    </tr>\n",
       "    <tr>\n",
       "      <th>2</th>\n",
       "      <td>D</td>\n",
       "      <td>This bill establishes new criteria for determi...</td>\n",
       "      <td>0</td>\n",
       "    </tr>\n",
       "    <tr>\n",
       "      <th>3</th>\n",
       "      <td>D</td>\n",
       "      <td>This bill prohibits discrimination based on se...</td>\n",
       "      <td>0</td>\n",
       "    </tr>\n",
       "    <tr>\n",
       "      <th>4</th>\n",
       "      <td>D</td>\n",
       "      <td>American Dream and Promise Act of 2021 This bi...</td>\n",
       "      <td>0</td>\n",
       "    </tr>\n",
       "  </tbody>\n",
       "</table>\n",
       "</div>"
      ],
      "text/plain": [
       "  sponsor_party                                       bill_summary  \\\n",
       "0             D  This bill addresses voter access, election int...   \n",
       "1             D  This bill establishes several programs and req...   \n",
       "2             D  This bill establishes new criteria for determi...   \n",
       "3             D  This bill prohibits discrimination based on se...   \n",
       "4             D  American Dream and Promise Act of 2021 This bi...   \n",
       "\n",
       "   category_id  \n",
       "0            0  \n",
       "1            0  \n",
       "2            0  \n",
       "3            0  \n",
       "4            0  "
      ]
     },
     "execution_count": 9,
     "metadata": {},
     "output_type": "execute_result"
    }
   ],
   "source": [
    "#Add category IDs and sort\n",
    "df['category_id'] = df['sponsor_party'].factorize()[0]\n",
    "category_id_df = df[['sponsor_party', 'category_id']].drop_duplicates().sort_values('category_id')\n",
    "category_to_id = dict(category_id_df.values)\n",
    "id_to_category = dict(category_id_df[['category_id', 'sponsor_party']].values)\n",
    "df.head()"
   ]
  },
  {
   "cell_type": "code",
   "execution_count": 10,
   "id": "954fe0ad",
   "metadata": {},
   "outputs": [
    {
     "data": {
      "text/plain": [
       "(19637, 49328)"
      ]
     },
     "execution_count": 10,
     "metadata": {},
     "output_type": "execute_result"
    }
   ],
   "source": [
    "#tf-idf (Term Frequency, Invervse Document Frequency)\n",
    "tfidf = TfidfVectorizer(sublinear_tf=True, min_df=5, norm='l2', encoding='latin-1', ngram_range=(1, 2), stop_words='english')\n",
    "\n",
    "features = tfidf.fit_transform(df.bill_summary).toarray()\n",
    "labels = df.category_id\n",
    "features.shape\n",
    "#have 19637 bills with 49342 features each"
   ]
  },
  {
   "cell_type": "markdown",
   "id": "105bd74e",
   "metadata": {},
   "source": [
    "## Classifiers"
   ]
  },
  {
   "cell_type": "code",
   "execution_count": 11,
   "id": "ed50a535",
   "metadata": {},
   "outputs": [],
   "source": [
    "from sklearn.feature_selection import chi2\n",
    "from sklearn.model_selection import train_test_split\n",
    "from sklearn.feature_extraction.text import CountVectorizer\n",
    "from sklearn.feature_extraction.text import TfidfTransformer\n",
    "from sklearn.naive_bayes import MultinomialNB\n",
    "from sklearn import metrics\n",
    "\n",
    "from sklearn.linear_model import LogisticRegression\n",
    "from sklearn.ensemble import RandomForestClassifier\n",
    "from sklearn.svm import LinearSVC\n",
    "from sklearn.model_selection import cross_val_score\n"
   ]
  },
  {
   "cell_type": "code",
   "execution_count": 12,
   "id": "06496889",
   "metadata": {},
   "outputs": [
    {
     "name": "stdout",
     "output_type": "stream",
     "text": [
      "# 'D':\n",
      "  . Most correlated unigrams:\n",
      ". grants\n",
      ". sec\n",
      "  . Most correlated bigrams:\n",
      ". sec amends\n",
      ". award grants\n",
      "# 'R':\n",
      "  . Most correlated unigrams:\n",
      ". grants\n",
      ". sec\n",
      "  . Most correlated bigrams:\n",
      ". sec amends\n",
      ". award grants\n"
     ]
    }
   ],
   "source": [
    "# Chi-squared stats\n",
    "N = 2\n",
    "for sponsor_party, category_id in sorted(category_to_id.items()):\n",
    "  features_chi2 = chi2(features, labels == category_id)\n",
    "  indices = np.argsort(features_chi2[0])\n",
    "  feature_names = np.array(tfidf.get_feature_names())[indices]\n",
    "  unigrams = [v for v in feature_names if len(v.split(' ')) == 1]\n",
    "  bigrams = [v for v in feature_names if len(v.split(' ')) == 2]\n",
    "  print(\"# '{}':\".format(sponsor_party))\n",
    "  print(\"  . Most correlated unigrams:\\n. {}\".format('\\n. '.join(unigrams[-N:])))\n",
    "  print(\"  . Most correlated bigrams:\\n. {}\".format('\\n. '.join(bigrams[-N:])))\n"
   ]
  },
  {
   "cell_type": "markdown",
   "id": "fedd5482",
   "metadata": {},
   "source": [
    "### Bayes"
   ]
  },
  {
   "cell_type": "code",
   "execution_count": 10,
   "id": "ad4ee6ff",
   "metadata": {},
   "outputs": [],
   "source": [
    "# Model\n",
    "X_train, X_test, y_train, y_test = train_test_split(df['bill_summary'], df['sponsor_party'])\n",
    "count_vect = CountVectorizer()\n",
    "X_train_counts = count_vect.fit_transform(X_train)\n",
    "tfidf_transformer = TfidfTransformer()\n",
    "X_train_tfidf = tfidf_transformer.fit_transform(X_train_counts)\n",
    "clf = MultinomialNB().fit(X_train_tfidf, y_train)"
   ]
  },
  {
   "cell_type": "code",
   "execution_count": 11,
   "id": "af7b3d5d",
   "metadata": {},
   "outputs": [
    {
     "name": "stdout",
     "output_type": "stream",
     "text": [
      "['D']\n"
     ]
    }
   ],
   "source": [
    "# Bayes Prediction Testing\n",
    "count_vect_v = CountVectorizer(vocabulary=count_vect.vocabulary_) #limit to vocab in training data set; prevent dimension mismatch\n",
    "t = count_vect_v.transform([\"American Dream and Promise Act of 2021 This bill provides certain aliens with a path to receive permanent resident status and contains other immigration-related provisions.The Department of Homeland Security (DHS) or the Department of Justice (DOJ) shall provide conditional permanent resident status for 10 years to a qualifying alien who entered the United States as a minor and (1) is deportable or inadmissible, (2) has deferred enforced departure (DED) status or temporary protected status (TPS), or (3) is the child of certain classes of nonimmigrants. The bill imposes various qualifying requirements, such as the alien being continuously physically present in the United States since January 1, 2021, passing a background check, and being enrolled in or having completed certain educational programs.DHS shall remove the conditions placed on permanent resident status granted under this bill if the alien applies and meets certain requirements, such as completing certain programs at an educational institution, serving in the military, or being employed.Furthermore, DHS and DOJ shall cancel the removal of certain aliens who had TPS, were eligible for TPS, or were eligible for DED status on certain dates. Such an alien shall receive permanent resident status upon meeting certain requirements and applying for such status within three years of this bill's enactment.For an alien seeking permanent resident status under this bill, DHS may (1) waive certain grounds of inadmissibility, or (2) provisionally deny the application if the alien poses a danger to public safety or has knowingly participated in certain offenses involving a criminal street gang. An alien shall have the right to administrative and judicial review of a denial or revocation of permanent resident status granted under this bill. An alien seeking judicial review of a provisional denial shall be appointed counsel upon request. An alien who appears to be prima facie eligible for relief under this bill shall receive a reasonable chance to apply for such relief and may not be removed until there is a final decision on that application for relief. DHS may not use information from applications filed under this bill or for Deferred Action for Childhood Arrivals status for immigration enforcement purposes. DHS shall establish a grant program for nonprofit organizations that assist individuals with certain immigration-related issues. This bill also repeals a restriction that bars a state from providing higher education benefits to undocumented aliens unless those benefits are available to all U.S. nationals without regard to residency in the state. An alien shall have the right to administrative and judicial review of a denial or revocation of permanent resident status granted under this bill. An alien seeking judicial review of a provisional denial shall be appointed counsel upon request. An alien who appears to be prima facie eligible for relief under this bill shall receive a reasonable chance to apply for such relief and may not be removed until there is a final decision on that application for relief. DHS may not use information from applications filed under this bill or for Deferred Action for Childhood Arrivals status for immigration enforcement purposes. DHS shall establish a grant program for nonprofit organizations that assist individuals with certain immigration-related issues. This bill also repeals a restriction that bars a state from providing higher education benefits to undocumented aliens unless those benefits are available to all U.S. nationals without regard to residency in the state. An alien who appears to be prima facie eligible for relief under this bill shall receive a reasonable chance to apply for such relief and may not be removed until there is a final decision on that application for relief. DHS may not use information from applications filed under this bill or for Deferred Action for Childhood Arrivals status for immigration enforcement purposes. DHS shall establish a grant program for nonprofit organizations that assist individuals with certain immigration-related issues. This bill also repeals a restriction that bars a state from providing higher education benefits to undocumented aliens unless those benefits are available to all U.S. nationals without regard to residency in the state. DHS may not use information from applications filed under this bill or for Deferred Action for Childhood Arrivals status for immigration enforcement purposes.DHS shall establish a grant program for nonprofit organizations that assist individuals with certain immigration-related issues.This bill also repeals a restriction that bars a state from providing higher education benefits to undocumented aliens unless those benefits are available to all U.S. nationals without regard to residency in the state. \"])\n",
    "\n",
    "print(clf.predict(t))"
   ]
  },
  {
   "cell_type": "code",
   "execution_count": 12,
   "id": "d4d9a647",
   "metadata": {},
   "outputs": [
    {
     "name": "stdout",
     "output_type": "stream",
     "text": [
      "0.6778004073319756\n"
     ]
    }
   ],
   "source": [
    "# Bayes Accuracy Testing - in progress\n",
    "X_test_counts = count_vect_v.transform(X_test)\n",
    "X_test_tfidf = tfidf_transformer.fit_transform(X_test_counts)\n",
    "\n",
    "y_pred = clf.predict(X_test_tfidf)\n",
    "print(metrics.accuracy_score(y_test,y_pred))"
   ]
  },
  {
   "cell_type": "markdown",
   "id": "98134c89",
   "metadata": {},
   "source": [
    "### Model Testing"
   ]
  },
  {
   "cell_type": "code",
   "execution_count": null,
   "id": "fa2dbdc2",
   "metadata": {},
   "outputs": [],
   "source": [
    "models = [\n",
    "    RandomForestClassifier(n_estimators=200, max_depth=3, random_state=0),\n",
    "    LinearSVC(),\n",
    "    MultinomialNB(),\n",
    "    LogisticRegression(random_state=0),\n",
    "]\n",
    "CV = 5\n",
    "cv_df = pd.DataFrame(index=range(CV * len(models)))\n",
    "entries = []\n",
    "for model in models:\n",
    "  model_name = model.__class__.__name__\n",
    "  accuracies = cross_val_score(model, features, labels, scoring='accuracy', cv=CV)\n",
    "  for fold_idx, accuracy in enumerate(accuracies):\n",
    "    entries.append((model_name, fold_idx, accuracy))\n"
   ]
  },
  {
   "cell_type": "code",
   "execution_count": null,
   "id": "aab00966",
   "metadata": {},
   "outputs": [],
   "source": [
    "cv_df = pd.DataFrame(entries, columns=['model_name', 'fold_idx', 'accuracy'])\n",
    "import seaborn as sns\n",
    "sns.boxplot(x='model_name', y='accuracy', data=cv_df)\n",
    "sns.stripplot(x='model_name', y='accuracy', data=cv_df, \n",
    "              size=8, jitter=True, edgecolor=\"gray\", linewidth=2)\n",
    "plt.show()\n",
    "cv_df.groupby('model_name').accuracy.mean()"
   ]
  },
  {
   "cell_type": "markdown",
   "id": "6c00c534",
   "metadata": {},
   "source": [
    "## Method 2/Data Cleaning"
   ]
  },
  {
   "cell_type": "code",
   "execution_count": 15,
   "id": "cc30b05f",
   "metadata": {},
   "outputs": [],
   "source": [
    "from sklearn.feature_extraction import text, _stop_words"
   ]
  },
  {
   "cell_type": "code",
   "execution_count": 16,
   "id": "20ec2cbc",
   "metadata": {},
   "outputs": [],
   "source": [
    "#split data frame\n",
    "dem = df.loc[df.sponsor_party=='D']\n",
    "rep = df.loc[df.sponsor_party=='R']\n",
    "ind = df.loc[df.sponsor_party=='I']\n",
    "lib = df.loc[df.sponsor_party=='L']"
   ]
  },
  {
   "cell_type": "code",
   "execution_count": 17,
   "id": "6f173681",
   "metadata": {},
   "outputs": [],
   "source": [
    "def word_counter(title_df,stop_list = []):\n",
    "    \n",
    "    # Count Vectorize\n",
    "    cvec = CountVectorizer(stop_words = stop_list)\n",
    "\n",
    "    # Transform the corpus\n",
    "    X_text = cvec.fit_transform(title_df['bill_summary'])\n",
    "\n",
    "    # Converts text to array form\n",
    "    X_text = pd.DataFrame(X_text.toarray(), columns= cvec.get_feature_names())\n",
    "\n",
    "    # See word counts\n",
    "    word_counts = X_text.sum().sort_values(0, ascending=False)\n",
    "    \n",
    "    return word_counts"
   ]
  },
  {
   "cell_type": "code",
   "execution_count": 18,
   "id": "7835e60f",
   "metadata": {},
   "outputs": [],
   "source": [
    "# Check Fillers\n",
    "fillers = _stop_words.ENGLISH_STOP_WORDS\n",
    "dem_f_count = word_counter(dem)\n",
    "dem_count = word_counter(dem, fillers)\n",
    "\n",
    "rep_f_count = word_counter(rep)\n",
    "rep_count = word_counter(rep, fillers)\n",
    "\n",
    "ind_f_count = word_counter(ind)\n",
    "ind_count = word_counter(ind, fillers)\n",
    "\n",
    "lib_f_count = word_counter(lib)\n",
    "lib_count = word_counter(lib, fillers)\n",
    "\n",
    "\n",
    "## COME BACK - get common elements of series (compare), get rid of shared/common words; possibly makes more accurate?"
   ]
  },
  {
   "cell_type": "code",
   "execution_count": 19,
   "id": "d43350e6",
   "metadata": {},
   "outputs": [
    {
     "data": {
      "image/png": "[encoded data removed]",
      "text/plain": [
       "<Figure size 432x288 with 1 Axes>"
      ]
     },
     "metadata": {
      "needs_background": "light"
     },
     "output_type": "display_data"
    },
    {
     "data": {
      "image/png": "[encoded data removed]",
      "text/plain": [
       "<Figure size 432x288 with 1 Axes>"
      ]
     },
     "metadata": {
      "needs_background": "light"
     },
     "output_type": "display_data"
    }
   ],
   "source": [
    "dems_wordcount = pd.DataFrame(word_counter(dem), columns=[\"Frequency\"])\n",
    "politics_top15 = dems_wordcount.head(25)\n",
    "politics_top15.sort_values('Frequency',ascending=True).plot(kind = \"barh\")\n",
    "plt.title(\"Top 25 Words in Democrat Bills\")\n",
    "plt.xlabel(\"Frequency (Count)\")\n",
    "plt.ylabel(\"Word\")\n",
    "plt.show()\n",
    "\n",
    "dems_wordcount = pd.DataFrame(word_counter(dem, fillers), columns=[\"Frequency\"])\n",
    "\n",
    "# Visualization\n",
    "politics_top15 = dems_wordcount.head(25)\n",
    "politics_top15.sort_values('Frequency',ascending=True).plot(kind = \"barh\")\n",
    "plt.title(\"Top 25 Words in Democrat Bills v2\")\n",
    "plt.xlabel(\"Frequency (Count)\")\n",
    "plt.show()"
   ]
  },
  {
   "cell_type": "code",
   "execution_count": 20,
   "id": "b7a9a83b",
   "metadata": {},
   "outputs": [
    {
     "data": {
      "image/png": "[encoded data removed]",
      "text/plain": [
       "<Figure size 432x288 with 1 Axes>"
      ]
     },
     "metadata": {
      "needs_background": "light"
     },
     "output_type": "display_data"
    },
    {
     "data": {
      "image/png": "[encoded data removed]",
      "text/plain": [
       "<Figure size 432x288 with 1 Axes>"
      ]
     },
     "metadata": {
      "needs_background": "light"
     },
     "output_type": "display_data"
    }
   ],
   "source": [
    "reps_wordcount = pd.DataFrame(word_counter(rep), columns=[\"Frequency\"])\n",
    "politics_top25 = reps_wordcount.head(25)\n",
    "politics_top25.sort_values('Frequency',ascending=True).plot(kind = \"barh\")\n",
    "plt.title(\"Top 25 Words in Republican Bills\")\n",
    "plt.xlabel(\"Frequency (Count)\")\n",
    "plt.ylabel(\"Word\")\n",
    "plt.show()\n",
    "\n",
    "reps_wordcount = pd.DataFrame(word_counter(rep, fillers), columns=[\"Frequency\"])\n",
    "\n",
    "# Visualization\n",
    "politics_top25 = reps_wordcount.head(25)\n",
    "politics_top25.sort_values('Frequency',ascending=True).plot(kind = \"barh\")\n",
    "plt.title(\"Top 25 Words in Republican Bills v2\")\n",
    "plt.xlabel(\"Frequency (Count)\")\n",
    "plt.show()"
   ]
  },
  {
   "cell_type": "code",
   "execution_count": 21,
   "id": "70b75801",
   "metadata": {},
   "outputs": [
    {
     "name": "stdout",
     "output_type": "stream",
     "text": [
      "program     5505\n",
      "health      4994\n",
      "services    3710\n",
      "state       3453\n",
      "national    3202\n",
      "dtype: int64\n"
     ]
    }
   ],
   "source": [
    "# adding in more common/shared words\n",
    "additional_poli_stop = ['shall','certain','act','federal','requires','requirements','department']\n",
    "all_stop = fillers.union(additional_poli_stop)\n",
    "dem_count = word_counter(dem, all_stop)\n",
    "rep_count = word_counter(rep, all_stop)\n",
    "ind_count = word_counter(ind, all_stop)\n",
    "lib_count = word_counter(lib, all_stop)\n",
    "print(dem_count.head())"
   ]
  },
  {
   "cell_type": "code",
   "execution_count": 22,
   "id": "33900f35",
   "metadata": {},
   "outputs": [
    {
     "data": {
      "text/plain": [
       "(19646, 47962)"
      ]
     },
     "execution_count": 22,
     "metadata": {},
     "output_type": "execute_result"
    }
   ],
   "source": [
    "#tf-idf (Term Frequency, Invervse Document Frequency)\n",
    "tfidf = TfidfVectorizer(sublinear_tf=True, min_df=5, norm='l2', encoding='latin-1', ngram_range=(1, 2), stop_words=all_stop)\n",
    "\n",
    "features = tfidf.fit_transform(df.bill_summary).toarray()\n",
    "labels = df.category_id\n",
    "features.shape\n",
    "#have 19646 bills with 47962 features each"
   ]
  },
  {
   "cell_type": "markdown",
   "id": "6268cf17",
   "metadata": {},
   "source": [
    "# Trying Out Different Analysis Methods"
   ]
  },
  {
   "cell_type": "code",
   "execution_count": 33,
   "id": "f51f84b4",
   "metadata": {},
   "outputs": [],
   "source": [
    "import pandas as pd\n",
    "from sklearn.metrics import confusion_matrix\n",
    "#from xgboost import XGBClassifier\n",
    "from sklearn.feature_extraction.text import TfidfVectorizer, CountVectorizer\n",
    "from sklearn.pipeline import Pipeline\n",
    "from sklearn.model_selection import train_test_split,GridSearchCV\n",
    "from sklearn.neighbors import KNeighborsClassifier\n",
    "from sklearn.linear_model import LogisticRegression\n",
    "from sklearn.naive_bayes import MultinomialNB\n",
    "from sklearn.tree import DecisionTreeClassifier\n",
    "from sklearn.metrics import accuracy_score,recall_score,precision_score, confusion_matrix"
   ]
  },
  {
   "cell_type": "markdown",
   "id": "1a89541f",
   "metadata": {},
   "source": [
    "### Bayes Take 2"
   ]
  },
  {
   "cell_type": "code",
   "execution_count": 23,
   "id": "649080ff",
   "metadata": {},
   "outputs": [],
   "source": [
    "X_train, X_test, y_train, y_test = train_test_split(df['bill_summary'], df['sponsor_party'])\n",
    "count_vect = CountVectorizer(stop_words = all_stop)\n",
    "X_train_counts = count_vect.fit_transform(X_train)\n",
    "tfidf_transformer = TfidfTransformer()\n",
    "X_train_tfidf = tfidf_transformer.fit_transform(X_train_counts)\n",
    "clf = MultinomialNB().fit(X_train_tfidf, y_train)"
   ]
  },
  {
   "cell_type": "code",
   "execution_count": 24,
   "id": "2ce17e27",
   "metadata": {},
   "outputs": [
    {
     "name": "stdout",
     "output_type": "stream",
     "text": [
      "0.6750814332247557\n"
     ]
    }
   ],
   "source": [
    "count_vect_v = CountVectorizer(vocabulary=count_vect.vocabulary_, stop_words=all_stop) #limit to vocab in training data set; prevent dimension mismatch\n",
    "\n",
    "X_test_counts = count_vect_v.transform(X_test)\n",
    "X_test_tfidf = tfidf_transformer.fit_transform(X_test_counts)\n",
    "\n",
    "y_pred = clf.predict(X_test_tfidf)\n",
    "print(metrics.accuracy_score(y_test,y_pred))"
   ]
  },
  {
   "cell_type": "markdown",
   "id": "db61dc86",
   "metadata": {},
   "source": [
    "### Count Vectorizor with Logistic Regression"
   ]
  },
  {
   "cell_type": "code",
   "execution_count": 59,
   "id": "6dda8191",
   "metadata": {},
   "outputs": [
    {
     "name": "stdout",
     "output_type": "stream",
     "text": [
      "Fitting 5 folds for each of 72 candidates, totalling 360 fits\n"
     ]
    },
    {
     "name": "stderr",
     "output_type": "stream",
     "text": [
      "/opt/anaconda3/lib/python3.8/site-packages/sklearn/linear_model/_logistic.py:763: ConvergenceWarning: lbfgs failed to converge (status=1):\n",
      "STOP: TOTAL NO. of ITERATIONS REACHED LIMIT.\n",
      "\n",
      "Increase the number of iterations (max_iter) or scale the data as shown in:\n",
      "    https://scikit-learn.org/stable/modules/preprocessing.html\n",
      "Please also refer to the documentation for alternative solver options:\n",
      "    https://scikit-learn.org/stable/modules/linear_model.html#logistic-regression\n",
      "  n_iter_i = _check_optimize_result(\n"
     ]
    },
    {
     "data": {
      "text/plain": [
       "GridSearchCV(cv=5,\n",
       "             estimator=Pipeline(steps=[('cvec', CountVectorizer()),\n",
       "                                       ('lr', LogisticRegression())]),\n",
       "             n_jobs=-1,\n",
       "             param_grid={'cvec__max_df': [0.3, 0.4],\n",
       "                         'cvec__max_features': [None, 500, 1000],\n",
       "                         'cvec__min_df': [2, 3],\n",
       "                         'cvec__ngram_range': [(1, 2), (1, 3)],\n",
       "                         'cvec__stop_words': [None, 'english',\n",
       "                                              frozenset({'a', 'about', 'above',\n",
       "                                                         'across', 'act',\n",
       "                                                         'after', 'afterwards',\n",
       "                                                         'again', 'against',\n",
       "                                                         'all', 'almost',\n",
       "                                                         'alone', 'along',\n",
       "                                                         'already', 'also',\n",
       "                                                         'although', 'always',\n",
       "                                                         'am', 'among',\n",
       "                                                         'amongst', 'amoungst',\n",
       "                                                         'amount', 'an', 'and',\n",
       "                                                         'another', 'any',\n",
       "                                                         'anyhow', 'anyone',\n",
       "                                                         'anything', 'anyway', ...})],\n",
       "                         'lr__penalty': ['l2']},\n",
       "             verbose=1)"
      ]
     },
     "execution_count": 59,
     "metadata": {},
     "output_type": "execute_result"
    }
   ],
   "source": [
    "pipe_cvec_lr = Pipeline([\n",
    "    ('cvec', CountVectorizer()),\n",
    "    ('lr', LogisticRegression())\n",
    "])\n",
    "\n",
    "pipe_params_cvec_lr = {\n",
    "    'cvec__max_features': [None,500,1000],\n",
    "    'cvec__min_df': [2,3],\n",
    "    'cvec__max_df': [.3,.4,],\n",
    "    'cvec__ngram_range': [(1,2),(1,3)],\n",
    "    'cvec__stop_words': [None,'english',all_stop],\n",
    "    'lr__penalty': ['l2']\n",
    "}\n",
    "\n",
    "gs = GridSearchCV(pipe_cvec_lr, param_grid=pipe_params_cvec_lr, cv=5,n_jobs = -1,verbose = 1)\n",
    "\n",
    "gs.fit(X_train,y_train)"
   ]
  },
  {
   "cell_type": "code",
   "execution_count": 61,
   "id": "5084310f",
   "metadata": {},
   "outputs": [],
   "source": [
    "cvlr_bestscore = gs.best_score_\n",
    "cvlr_params = gs.best_params_\n",
    "cvlr_train = gs.score(X_train,y_train)\n",
    "cvlr_test= gs.score(X_test,y_test)\n",
    "cvlr = ('CountVec with LogReg', cvlr_bestscore, cvlr_params, cvlr_train, cvlr_test)"
   ]
  },
  {
   "cell_type": "code",
   "execution_count": 62,
   "id": "f012121c",
   "metadata": {},
   "outputs": [
    {
     "name": "stdout",
     "output_type": "stream",
     "text": [
      "Best CV Score: 0.751612880173629\n",
      "Best Parameters: {'cvec__max_df': 0.4, 'cvec__max_features': None, 'cvec__min_df': 2, 'cvec__ngram_range': (1, 3), 'cvec__stop_words': 'english', 'lr__penalty': 'l2'}\n",
      "Train Accuracy Score: 0.9944998981462619\n",
      "Test Accuracy Score: 0.7665987780040733\n"
     ]
    }
   ],
   "source": [
    "print(f'Best CV Score: {gs.best_score_}')\n",
    "print(f'Best Parameters: {gs.best_params_}')\n",
    "print(f'Train Accuracy Score: {gs.score(X_train,y_train)}')\n",
    "print(f'Test Accuracy Score: {gs.score(X_test,y_test)}')"
   ]
  },
  {
   "cell_type": "markdown",
   "id": "8c140f6a",
   "metadata": {},
   "source": [
    "### TF-IDF with Logistic Regression"
   ]
  },
  {
   "cell_type": "code",
   "execution_count": 63,
   "id": "64fe82ff",
   "metadata": {},
   "outputs": [
    {
     "name": "stdout",
     "output_type": "stream",
     "text": [
      "Fitting 4 folds for each of 72 candidates, totalling 288 fits\n",
      "Best Score: 0.72777878121292\n",
      "Best Parameters: {'lr__penalty': 'l2', 'tvec__max_df': 0.3, 'tvec__max_features': None, 'tvec__min_df': 3, 'tvec__ngram_range': (1, 3), 'tvec__stop_words': None}\n",
      "Train Accuracy Score: 0.8760100495688192\n",
      "Test Accuracy Score: 0.7256619144602852\n"
     ]
    }
   ],
   "source": [
    "pipe_tvec_lr = Pipeline([\n",
    "    ('tvec', TfidfVectorizer()),\n",
    "    ('lr', LogisticRegression())\n",
    "])\n",
    "\n",
    "pipe_params_tvec_lr = {\n",
    "    'tvec__max_features': [None,1000],\n",
    "    'tvec__min_df': [2,3,4],\n",
    "    'tvec__max_df': [.3,.5],\n",
    "    'tvec__ngram_range': [(1,1),(1,3)],\n",
    "    'tvec__stop_words': [None, all_stop,'english'],\n",
    "    'lr__penalty': ['l2']\n",
    "}\n",
    "\n",
    "gs = GridSearchCV(pipe_tvec_lr, param_grid=pipe_params_tvec_lr, cv=4, n_jobs=-1, verbose = 1)\n",
    "\n",
    "gs.fit(X_train,y_train)\n",
    "\n",
    "\n",
    "print(f'Best Score: {gs.best_score_}')\n",
    "print(f'Best Parameters: {gs.best_params_}')\n",
    "print(f'Train Accuracy Score: {gs.score(X_train,y_train)}')\n",
    "print(f'Test Accuracy Score: {gs.score(X_test,y_test)}')"
   ]
  },
  {
   "cell_type": "code",
   "execution_count": 64,
   "id": "6f54f31c",
   "metadata": {},
   "outputs": [],
   "source": [
    "tflr_bestscore = gs.best_score_\n",
    "tflr_params = gs.best_params_\n",
    "tflr_train = gs.score(X_train,y_train)\n",
    "tflr_test= gs.score(X_test,y_test)\n",
    "tflr = ('TF-IDF with LogReg',tflr_bestscore, tflr_params, tflr_train, tflr_test)"
   ]
  },
  {
   "cell_type": "code",
   "execution_count": 65,
   "id": "5856d74c",
   "metadata": {},
   "outputs": [
    {
     "name": "stdout",
     "output_type": "stream",
     "text": [
      "Best Score: 0.72777878121292\n",
      "Best Parameters: {'lr__penalty': 'l2', 'tvec__max_df': 0.3, 'tvec__max_features': None, 'tvec__min_df': 3, 'tvec__ngram_range': (1, 3), 'tvec__stop_words': None}\n",
      "Train Accuracy Score: 0.8760100495688192\n",
      "Test Accuracy Score: 0.7256619144602852\n"
     ]
    }
   ],
   "source": [
    "print(f'Best Score: {gs.best_score_}')\n",
    "print(f'Best Parameters: {gs.best_params_}')\n",
    "print(f'Train Accuracy Score: {gs.score(X_train,y_train)}')\n",
    "print(f'Test Accuracy Score: {gs.score(X_test,y_test)}')"
   ]
  },
  {
   "cell_type": "markdown",
   "id": "afe6a3c3",
   "metadata": {},
   "source": [
    "### Multinomial Bayes + Count Vectorizor"
   ]
  },
  {
   "cell_type": "code",
   "execution_count": 1,
   "id": "0c0c59ed",
   "metadata": {},
   "outputs": [
    {
     "ename": "NameError",
     "evalue": "name 'Pipeline' is not defined",
     "output_type": "error",
     "traceback": [
      "\u001b[0;31m---------------------------------------------------------------------------\u001b[0m",
      "\u001b[0;31mNameError\u001b[0m                                 Traceback (most recent call last)",
      "\u001b[0;32m<ipython-input-1-2405d064d2d9>\u001b[0m in \u001b[0;36m<module>\u001b[0;34m\u001b[0m\n\u001b[0;32m----> 1\u001b[0;31m pipe_cvec_mnb = Pipeline([\n\u001b[0m\u001b[1;32m      2\u001b[0m     \u001b[0;34m(\u001b[0m\u001b[0;34m'cvec'\u001b[0m\u001b[0;34m,\u001b[0m \u001b[0mCountVectorizer\u001b[0m\u001b[0;34m(\u001b[0m\u001b[0;34m)\u001b[0m\u001b[0;34m)\u001b[0m\u001b[0;34m,\u001b[0m\u001b[0;34m\u001b[0m\u001b[0;34m\u001b[0m\u001b[0m\n\u001b[1;32m      3\u001b[0m     \u001b[0;34m(\u001b[0m\u001b[0;34m'mnb'\u001b[0m\u001b[0;34m,\u001b[0m \u001b[0mMultinomialNB\u001b[0m\u001b[0;34m(\u001b[0m\u001b[0;34m)\u001b[0m\u001b[0;34m)\u001b[0m\u001b[0;34m\u001b[0m\u001b[0;34m\u001b[0m\u001b[0m\n\u001b[1;32m      4\u001b[0m ])\n\u001b[1;32m      5\u001b[0m \u001b[0;34m\u001b[0m\u001b[0m\n",
      "\u001b[0;31mNameError\u001b[0m: name 'Pipeline' is not defined"
     ]
    }
   ],
   "source": [
    "pipe_cvec_mnb = Pipeline([\n",
    "    ('cvec', CountVectorizer()),\n",
    "    ('mnb', MultinomialNB())\n",
    "])\n",
    "\n",
    "pipe_params_cvec_mnb = {\n",
    "    'cvec__max_features': [None,500,1000,2500],\n",
    "    'cvec__min_df': [2,3],\n",
    "    'cvec__max_df': [.4, .8],\n",
    "    'cvec__ngram_range': [(1,1),(1,2),(1,3)],\n",
    "    'cvec__stop_words': [None, new_stop_list,'english']\n",
    "}\n",
    "\n",
    "gs = GridSearchCV(pipe_cvec_mnb, param_grid=pipe_params_cvec_mnb, cv=4, n_jobs = 4, verbose = 1)\n",
    "\n",
    "gs.fit(X_train['Post Text'],y_train)"
   ]
  }
 ],
 "metadata": {
  "kernelspec": {
   "display_name": "Python 3",
   "language": "python",
   "name": "python3"
  },
  "language_info": {
   "codemirror_mode": {
    "name": "ipython",
    "version": 3
   },
   "file_extension": ".py",
   "mimetype": "text/x-python",
   "name": "python",
   "nbconvert_exporter": "python",
   "pygments_lexer": "ipython3",
   "version": "3.8.8"
  }
 },
 "nbformat": 4,
 "nbformat_minor": 5
}
