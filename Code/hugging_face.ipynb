{
 "cells": [
  {
   "cell_type": "code",
   "execution_count": 1,
   "id": "bfbb7475-f821-497e-b77f-e0d35c8893fb",
   "metadata": {},
   "outputs": [],
   "source": [
    "# Base imports\n",
    "import os\n",
    "import sqlite3\n",
    "from string import punctuation\n",
    "\n",
    "# Data manimpulation\n",
    "import pandas as pd\n",
    "import numpy as np\n",
    "\n",
    "# Data visualization\n",
    "import matplotlib.pyplot as plt\n",
    "\n",
    "# Model preprocessing\n",
    "from nltk.corpus import stopwords\n",
    "from sklearn.pipeline import Pipeline\n",
    "from sklearn.model_selection import train_test_split\n",
    "from sklearn.model_selection import GridSearchCV\n",
    "from sklearn.feature_extraction.text import TfidfVectorizer\n",
    "\n",
    "# Modeling\n",
    "from sklearn.ensemble import VotingClassifier\n",
    "from sklearn.ensemble import AdaBoostClassifier\n",
    "from sklearn.linear_model import LogisticRegression\n",
    "from sklearn.tree import DecisionTreeClassifier\n",
    "from sklearn.ensemble import RandomForestClassifier\n",
    "from sklearn.naive_bayes import MultinomialNB\n",
    "from sklearn.svm import SVC\n",
    "from sklearn.linear_model import SGDClassifier\n",
    "from sklearn.neural_network import MLPClassifier\n",
    "\n",
    "# Model evaluation\n",
    "from sklearn.metrics import confusion_matrix, ConfusionMatrixDisplay\n",
    "from sklearn.metrics import classification_report\n",
    "\n",
    "# Transformers\n",
    "from transformers import pipeline\n",
    "from transformers import AutoTokenizer"
   ]
  },
  {
   "cell_type": "code",
   "execution_count": 2,
   "id": "97f250ca-07ab-4e5a-857d-f5e7a772290c",
   "metadata": {},
   "outputs": [],
   "source": [
    "############ FUNCTIONS ############\n",
    "def find_params(X_train, y_train,\n",
    "                clf,strip_accents=['unicode', None],min_df=[1,2,3,4,5],\n",
    "                max_df=[0.3, 0.4, 0.5, 0.6, 0.7],\n",
    "                ngram_range=[(1,1),(1,2),(1,3)],\n",
    "                stop_words=[None, stopwords.words('english')],\n",
    "                use_idf=(True, False),\n",
    "                **kwargs):\n",
    "    \"\"\"Returns the optimal parameters from a grid search.\n",
    "    \n",
    "    Arguments\n",
    "    X_train : X training data \n",
    "    y_train : y training data\n",
    "    clf : a sklearn classifier\n",
    "    stip_accents : TfidfVectorizer strip_accents parameter\n",
    "    min_df : TfidfVectorizer min_df parameter\n",
    "    max_df : TfidfVectorizer max_df parameter\n",
    "    ngram_range : TfidfVectorizer ngram_range parameter\n",
    "    stop_words : TfidfVectorizer stop_words parameter\n",
    "    use_idf : TfidfVectorizer use_idf parameter\n",
    "    **kwargs : optional model parameters\n",
    "    \"\"\"\n",
    "    # Create Pipeline\n",
    "    model_pipeline = Pipeline([\n",
    "        ('tfidf', TfidfVectorizer()),\n",
    "        ('clf', clf)\n",
    "    ])\n",
    "\n",
    "    # Create parameter space for TfidfVectorizer\n",
    "    tfidf_params = {\n",
    "            'tfidf__strip_accents': strip_accents,\n",
    "            'tfidf__min_df': min_df,\n",
    "            'tfidf__max_df': max_df,\n",
    "            'tfidf__ngram_range': ngram_range,\n",
    "            'tfidf__stop_words': stop_words,\n",
    "            'tfidf__use_idf': use_idf,\n",
    "    }\n",
    "\n",
    "    # Create parameter space for classifier\n",
    "    model_params = {}\n",
    "    if kwargs:\n",
    "        for k,v in kwargs.items():\n",
    "            model_params['clf__'+k] = v\n",
    "\n",
    "    # Create joined parameter space   \n",
    "    pipeline_params = {**tfidf_params, **model_params}\n",
    "\n",
    "    # Initialize grid search object\n",
    "    gs_clf = GridSearchCV(model_pipeline, pipeline_params, scoring='f1_micro', \n",
    "                          cv=5, n_jobs=-1)\n",
    "\n",
    "    # Fit grid search to training data\n",
    "    gs_clf = gs_clf.fit(X_train, y_train)\n",
    "\n",
    "    # Return results\n",
    "    best_params = gs_clf.best_params_\n",
    "    if best_params['tfidf__stop_words']:\n",
    "        best_params['tfidf__stop_words'] = True\n",
    "        \n",
    "    return best_params\n",
    "\n",
    "\n",
    "def build_model(X_train, y_train, X_test, y_test, clf, \n",
    "                strip_accents=None, stop_words=None, \n",
    "                ngram_range = (1,1), max_df=1, min_df=1, use_idf=True):\n",
    "    \"\"\"Build a model from training data. Returns a classification report and \n",
    "    confusion matrix based off of the testing data provided.\n",
    "    \n",
    "    Arguments\n",
    "    X_train : X training data\n",
    "    y_train : y training data\n",
    "    X_test : X testing data\n",
    "    y_test : y testing data\n",
    "    clf : classification model\n",
    "    strip_accents: TfidfVectorizer strip_accents parameter\n",
    "    min_df : TfidfVectorizer min_df parameter\n",
    "    max_df : TfidfVectorizer max_df parameter\n",
    "    ngram_range : TfidfVectorizer ngram_range parameter\n",
    "    stop_words : TfidfVectorizer stop_words parameter\n",
    "    use_idf : TfidfVectorizer use_idf parameter\n",
    "    \"\"\"\n",
    "    # Initialize vectorization parameters\n",
    "    vectorizer = TfidfVectorizer(strip_accents=strip_accents,\n",
    "                                 min_df=min_df,\n",
    "                                 max_df=max_df,\n",
    "                                 ngram_range=ngram_range,\n",
    "                                 stop_words=stop_words,\n",
    "                                 use_idf=use_idf)\n",
    "\n",
    "    # Vectorize training and test data\n",
    "    X_train_tfidf = vectorizer.fit_transform(X_train)\n",
    "    X_test_tfidf = vectorizer.transform(X_test)\n",
    "\n",
    "    # Train classifier\n",
    "    clf.fit(X_train_tfidf, y_train)\n",
    "\n",
    "    # Predict of test data\n",
    "    y_pred = clf.predict(X_test_tfidf)\n",
    "\n",
    "    # Get classification report\n",
    "    print(classification_report(y_test, y_pred))\n",
    "\n",
    "    # Plot confusion matrix\n",
    "    cm = confusion_matrix(y_test, y_pred)\n",
    "    disp = ConfusionMatrixDisplay(cm, display_labels=clf.classes_)\n",
    "    disp.plot()\n",
    "    plt.show()\n",
    "    \n",
    "    return clf;\n",
    "\n",
    "\n",
    "############ END FUNCTIONS ############"
   ]
  },
  {
   "cell_type": "code",
   "execution_count": 3,
   "id": "619c8ca1-de5f-44c9-a323-bbcab59774d3",
   "metadata": {},
   "outputs": [],
   "source": [
    "# Change directory\n",
    "os.chdir('final project/CS254/data/')\n",
    "\n",
    "# Load data\n",
    "conn = sqlite3.connect('congress.db')\n",
    "congress = pd.read_sql_query(\"SELECT * FROM congress\", conn)\n",
    "conn.close()"
   ]
  },
  {
   "cell_type": "code",
   "execution_count": null,
   "id": "4eb845b1-8827-43e6-9373-24c3119013ff",
   "metadata": {},
   "outputs": [],
   "source": []
  },
  {
   "cell_type": "code",
   "execution_count": 4,
   "id": "c2046787-2371-42e9-8ceb-ceadb1e7afbc",
   "metadata": {},
   "outputs": [],
   "source": [
    "np.random.seed(1999)\n",
    "\n",
    "# Extract just the sponsor party and bill summaries\n",
    "df = congress[['sponsor_party', 'bill_summary']].copy()\n",
    "\n",
    "# Remove the Libertarian and Independent parties\n",
    "df = df[df['sponsor_party'] != 'L']\n",
    "df = df[df['sponsor_party'] != 'I']\n",
    "\n",
    "# Split the data\n",
    "X_train, X_test, y_train, y_test = train_test_split(df['bill_summary'],\n",
    "                                                    df['sponsor_party'],\n",
    "                                                    random_state=0,\n",
    "                                                    test_size=0.2\n",
    "                                                   )"
   ]
  },
  {
   "cell_type": "markdown",
   "id": "f2777600-8fd7-4649-accb-0c1661ddaf05",
   "metadata": {},
   "source": [
    "## Multinomial Naive Bayes"
   ]
  },
  {
   "cell_type": "code",
   "execution_count": 8,
   "id": "801ea73e-e2a8-4b46-861b-efbea872da93",
   "metadata": {},
   "outputs": [
    {
     "data": {
      "text/plain": [
       "{'tfidf__max_df': 0.39,\n",
       " 'tfidf__min_df': 4,\n",
       " 'tfidf__ngram_range': (1, 2),\n",
       " 'tfidf__stop_words': True,\n",
       " 'tfidf__strip_accents': 'unicode',\n",
       " 'tfidf__use_idf': True}"
      ]
     },
     "execution_count": 8,
     "metadata": {},
     "output_type": "execute_result"
    }
   ],
   "source": [
    "find_params(X_train, y_train, MultinomialNB(), max_df=[0.39], min_df=[4], ngram_range=[(1,2)], strip_accents=['unicode'], use_idf=[True])"
   ]
  },
  {
   "cell_type": "code",
   "execution_count": 5,
   "id": "3d662d1f-b581-4e04-ae87-02cad68a7e03",
   "metadata": {},
   "outputs": [
    {
     "name": "stdout",
     "output_type": "stream",
     "text": [
      "              precision    recall  f1-score   support\n",
      "\n",
      "           D       0.72      0.88      0.79      2933\n",
      "           R       0.79      0.56      0.66      2298\n",
      "\n",
      "    accuracy                           0.74      5231\n",
      "   macro avg       0.75      0.72      0.72      5231\n",
      "weighted avg       0.75      0.74      0.73      5231\n",
      "\n"
     ]
    },
    {
     "data": {
      "image/png": "[encoded data removed]",
      "text/plain": [
       "<Figure size 432x288 with 2 Axes>"
      ]
     },
     "metadata": {
      "needs_background": "light"
     },
     "output_type": "display_data"
    }
   ],
   "source": [
    "clf_nb = build_model(X_train, y_train, X_test, y_test,\n",
    "                     MultinomialNB(),\n",
    "                     max_df=0.39,\n",
    "                     min_df=4,\n",
    "                     ngram_range=(1,2),\n",
    "                     stop_words=stopwords.words('english'),\n",
    "                     strip_accents='unicode',\n",
    "                     use_idf=True)"
   ]
  },
  {
   "cell_type": "markdown",
   "id": "42d88f8a-62ea-48ad-bd68-af19d0036eac",
   "metadata": {},
   "source": [
    "## Logistic Regression"
   ]
  },
  {
   "cell_type": "code",
   "execution_count": 16,
   "id": "3fe70a1d-a915-4781-b926-02881712ef01",
   "metadata": {},
   "outputs": [
    {
     "data": {
      "text/plain": [
       "{'tfidf__max_df': 0.5,\n",
       " 'tfidf__min_df': 1,\n",
       " 'tfidf__ngram_range': (1, 3),\n",
       " 'tfidf__stop_words': None,\n",
       " 'tfidf__strip_accents': 'unicode',\n",
       " 'tfidf__use_idf': True}"
      ]
     },
     "execution_count": 16,
     "metadata": {},
     "output_type": "execute_result"
    }
   ],
   "source": [
    "find_params(X_train, y_train, LogisticRegression(max_iter=300), max_df=[0.48,0.5,0.52], min_df=[1,2], ngram_range=[(1,3)], use_idf=[True])"
   ]
  },
  {
   "cell_type": "code",
   "execution_count": 6,
   "id": "43665797-8eef-44a6-9daf-bfffd1964cab",
   "metadata": {},
   "outputs": [
    {
     "name": "stdout",
     "output_type": "stream",
     "text": [
      "              precision    recall  f1-score   support\n",
      "\n",
      "           D       0.76      0.84      0.80      2933\n",
      "           R       0.77      0.67      0.71      2298\n",
      "\n",
      "    accuracy                           0.77      5231\n",
      "   macro avg       0.77      0.76      0.76      5231\n",
      "weighted avg       0.77      0.77      0.76      5231\n",
      "\n"
     ]
    },
    {
     "data": {
      "image/png": "[encoded data removed]",
      "text/plain": [
       "<Figure size 432x288 with 2 Axes>"
      ]
     },
     "metadata": {
      "needs_background": "light"
     },
     "output_type": "display_data"
    }
   ],
   "source": [
    "clf_lr = build_model(X_train, y_train, X_test, y_test,\n",
    "                     LogisticRegression(max_iter=300),\n",
    "                     max_df=0.5,\n",
    "                     min_df=1,\n",
    "                     ngram_range=(1,3),\n",
    "                     stop_words=None,\n",
    "                     strip_accents='unicode',\n",
    "                     use_idf=True\n",
    "                    )"
   ]
  },
  {
   "cell_type": "markdown",
   "id": "90ebf29c-0b23-4273-9a64-a0547e5f19db",
   "metadata": {},
   "source": [
    "## Support Vector Classification (SVC)"
   ]
  },
  {
   "cell_type": "code",
   "execution_count": null,
   "id": "bbd411b9-0c67-4d60-9fe7-6851d31a391e",
   "metadata": {},
   "outputs": [],
   "source": [
    "find_params(X_train, y_train, SVC(), kernel=['poly', 'rbf', 'sigmoid'], gamma=['auto', 'scale'])"
   ]
  },
  {
   "cell_type": "code",
   "execution_count": 10,
   "id": "bd4df6e1-2f73-4c90-8df9-f484a8131eb2",
   "metadata": {},
   "outputs": [
    {
     "name": "stdout",
     "output_type": "stream",
     "text": [
      "              precision    recall  f1-score   support\n",
      "\n",
      "           D       0.80      0.85      0.82      2933\n",
      "           R       0.79      0.72      0.75      2298\n",
      "\n",
      "    accuracy                           0.79      5231\n",
      "   macro avg       0.79      0.79      0.79      5231\n",
      "weighted avg       0.79      0.79      0.79      5231\n",
      "\n"
     ]
    },
    {
     "data": {
      "image/png": "[encoded data removed]",
      "text/plain": [
       "<Figure size 432x288 with 2 Axes>"
      ]
     },
     "metadata": {
      "needs_background": "light"
     },
     "output_type": "display_data"
    }
   ],
   "source": [
    "clf_svc = build_model(X_train, y_train, X_test, y_test,\n",
    "                      SVC(kernel='rbf',\n",
    "                          gamma='scale',\n",
    "                          probability=True\n",
    "                         ),\n",
    "                      max_df=0.5,\n",
    "                      min_df=5,\n",
    "                      ngram_range=(1,3),\n",
    "                      stop_words=stopwords.words('english'),\n",
    "                      strip_accents='unicode',\n",
    "                      use_idf=True\n",
    "                     )"
   ]
  },
  {
   "cell_type": "code",
   "execution_count": 8,
   "id": "517ab588-a503-494d-8137-87f22833d883",
   "metadata": {},
   "outputs": [
    {
     "name": "stdout",
     "output_type": "stream",
     "text": [
      "              precision    recall  f1-score   support\n",
      "\n",
      "           D       0.79      0.86      0.82      2933\n",
      "           R       0.79      0.72      0.75      2298\n",
      "\n",
      "    accuracy                           0.79      5231\n",
      "   macro avg       0.79      0.79      0.79      5231\n",
      "weighted avg       0.79      0.79      0.79      5231\n",
      "\n"
     ]
    },
    {
     "data": {
      "image/png": "[encoded data removed]",
      "text/plain": [
       "<Figure size 432x288 with 2 Axes>"
      ]
     },
     "metadata": {
      "needs_background": "light"
     },
     "output_type": "display_data"
    }
   ],
   "source": [
    "clf_svc = build_model(X_train, y_train, X_test, y_test,\n",
    "                      SVC(kernel='rbf',\n",
    "                          gamma='scale',\n",
    "                          probability=True\n",
    "                         ),\n",
    "                      max_df=0.1,\n",
    "                      min_df=5,\n",
    "                      ngram_range=(1,3),\n",
    "                      stop_words=stopwords.words('english'),\n",
    "                      strip_accents='unicode',\n",
    "                      use_idf=True\n",
    "                     )"
   ]
  },
  {
   "cell_type": "markdown",
   "id": "748b8460-7bca-4bd4-a93e-b8ffdb02e27e",
   "metadata": {
    "tags": []
   },
   "source": [
    "## SGD Classifier"
   ]
  },
  {
   "cell_type": "code",
   "execution_count": null,
   "id": "29da3661-ebb1-4dc0-8fd7-8fa0038c7609",
   "metadata": {},
   "outputs": [],
   "source": [
    "find_params(X_train, y_train, SGDClassifier(n_jobs=-1, loss=['log', 'hinge']))"
   ]
  },
  {
   "cell_type": "code",
   "execution_count": 18,
   "id": "7c6c0778-3b32-49d5-9aa0-feb17f19387a",
   "metadata": {},
   "outputs": [
    {
     "name": "stdout",
     "output_type": "stream",
     "text": [
      "              precision    recall  f1-score   support\n",
      "\n",
      "           D       0.75      0.83      0.79      2933\n",
      "           R       0.75      0.65      0.70      2298\n",
      "\n",
      "    accuracy                           0.75      5231\n",
      "   macro avg       0.75      0.74      0.74      5231\n",
      "weighted avg       0.75      0.75      0.75      5231\n",
      "\n"
     ]
    },
    {
     "data": {
      "image/png": "[encoded data removed]",
      "text/plain": [
       "<Figure size 432x288 with 2 Axes>"
      ]
     },
     "metadata": {
      "needs_background": "light"
     },
     "output_type": "display_data"
    }
   ],
   "source": [
    "clf_sgd = build_model(X_train, y_train, X_test, y_test,\n",
    "                      SGDClassifier(n_jobs=-1, loss='hinge'\n",
    "                                   ),\n",
    "                      max_df=0.5,\n",
    "                      min_df=5,\n",
    "                      ngram_range=(1,3),\n",
    "                      stop_words=stopwords.words('english'),\n",
    "                      strip_accents='unicode',\n",
    "                      use_idf=True\n",
    "                     )"
   ]
  },
  {
   "cell_type": "markdown",
   "id": "95436b8f-c863-4303-b40f-2ef22abcae4b",
   "metadata": {},
   "source": [
    "## Random Forest"
   ]
  },
  {
   "cell_type": "code",
   "execution_count": null,
   "id": "b508df83-fe00-472b-ae7d-064269ca075a",
   "metadata": {},
   "outputs": [],
   "source": [
    "find_params(X_train, y_train, RandomForestClassifier(),\n",
    "            max_features=['auto', 'sqrt', 'log2'],\n",
    "            criterion=['gini', 'entropy'],\n",
    "            max_depth=[None, 3, 5, 10])"
   ]
  },
  {
   "cell_type": "code",
   "execution_count": 36,
   "id": "4921a850-5bd7-498b-969f-5f38bc4cfee8",
   "metadata": {},
   "outputs": [
    {
     "name": "stdout",
     "output_type": "stream",
     "text": [
      "              precision    recall  f1-score   support\n",
      "\n",
      "           D       0.78      0.86      0.82      2933\n",
      "           R       0.80      0.69      0.74      2298\n",
      "\n",
      "    accuracy                           0.79      5231\n",
      "   macro avg       0.79      0.78      0.78      5231\n",
      "weighted avg       0.79      0.79      0.78      5231\n",
      "\n"
     ]
    },
    {
     "data": {
      "image/png": "[encoded data removed]",
      "text/plain": [
       "<Figure size 432x288 with 2 Axes>"
      ]
     },
     "metadata": {
      "needs_background": "light"
     },
     "output_type": "display_data"
    }
   ],
   "source": [
    "clf_rf = build_model(X_train, y_train, X_test, y_test,\n",
    "                     RandomForestClassifier(max_features='auto',\n",
    "                                            criterion='gini'\n",
    "                                           ),\n",
    "                     max_df=0.1,\n",
    "                     min_df=5,\n",
    "                     ngram_range=(1,2),\n",
    "                     stop_words=stopwords.words('english'),\n",
    "                     strip_accents='unicode',\n",
    "                     use_idf=True\n",
    "                    )"
   ]
  },
  {
   "cell_type": "markdown",
   "id": "daabbf35-5e03-4c90-8983-47f5a21e9e98",
   "metadata": {},
   "source": [
    "# Transformers\n",
    "\n",
    "Now we will look at using name entity recognition provided by the hugging face library"
   ]
  },
  {
   "cell_type": "code",
   "execution_count": 4,
   "id": "b9a40c77-534c-4472-be30-128ee2e3703b",
   "metadata": {},
   "outputs": [
    {
     "name": "stderr",
     "output_type": "stream",
     "text": [
      "No model was supplied, defaulted to sshleifer/distilbart-cnn-12-6 (https://huggingface.co/sshleifer/distilbart-cnn-12-6)\n"
     ]
    }
   ],
   "source": [
    "summarizer = pipeline(\"summarization\")\n",
    "tokenizer = AutoTokenizer.from_pretrained(\"sshleifer/distilbart-cnn-12-6\")"
   ]
  },
  {
   "cell_type": "code",
   "execution_count": 170,
   "id": "58999923-01bd-463e-923f-a35658267efb",
   "metadata": {},
   "outputs": [],
   "source": [
    "def text_len(text):\n",
    "    \"\"\"Return the minimum and maximum length of a body of text\n",
    "    for input in a tranformer model.\n",
    "    \"\"\"\n",
    "    tokenized_text = tokenizer(text)\n",
    "    text_length = len(tokenized_text['input_ids'])\n",
    "    min_len = 1\n",
    "    max_len = int(np.ceil(text_length * 0.3))\n",
    "    \n",
    "    return text_length, min_len, max_len"
   ]
  },
  {
   "cell_type": "code",
   "execution_count": 181,
   "id": "fb31add6-41ac-4d1a-a729-b37089bab889",
   "metadata": {},
   "outputs": [],
   "source": [
    "hf_summarizer = []\n",
    "n = 3000\n",
    "for text in congress['bill_summary']:\n",
    "    text_length, min_len, max_len = text_len(text)\n",
    "    if text_length <= 1024:\n",
    "        hf_summarizer.append(summarizer(text, min_length=min_len, max_length=max_len)[0]['summary_text'])\n",
    "    \n",
    "    # Text is too long, needs to be broken up to run\n",
    "    else:\n",
    "        summarized_text = []\n",
    "        for i in range(int(np.ceil(len(text) / n))):\n",
    "            partial_text = text[i*n:(i+1)*n]\n",
    "            _,_,max_len = text_len(partial_text)\n",
    "            summarized_text.append(summarizer(partial_text,\n",
    "                                              min_length=min_len,\n",
    "                                              max_length=max_len)[0]['summary_text'])\n",
    "        hf_summarizer.append(\"\".join(summarized_text))"
   ]
  },
  {
   "cell_type": "code",
   "execution_count": 186,
   "id": "c8601964-9f2d-4c9f-b4f4-2e91d696ba5a",
   "metadata": {},
   "outputs": [],
   "source": [
    "congress['hf_summary'] = hf_summarizer"
   ]
  },
  {
   "cell_type": "code",
   "execution_count": 189,
   "id": "cc5a26c3-7eae-42b3-8004-85f38bf7950a",
   "metadata": {},
   "outputs": [],
   "source": [
    "congress.to_csv(\"hf_summary.csv\", index=False)"
   ]
  },
  {
   "cell_type": "markdown",
   "id": "481d88db-923d-4d6f-9eb9-c35140665bf1",
   "metadata": {},
   "source": [
    "https://billmap.govtrack.us/bills/114hr3682"
   ]
  }
 ],
 "metadata": {
  "kernelspec": {
   "display_name": "hf",
   "language": "python",
   "name": "hf"
  },
  "language_info": {
   "codemirror_mode": {
    "name": "ipython",
    "version": 3
   },
   "file_extension": ".py",
   "mimetype": "text/x-python",
   "name": "python",
   "nbconvert_exporter": "python",
   "pygments_lexer": "ipython3",
   "version": "3.9.7"
  }
 },
 "nbformat": 4,
 "nbformat_minor": 5
}
